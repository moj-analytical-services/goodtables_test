{
 "cells": [
  {
   "cell_type": "code",
   "execution_count": null,
   "metadata": {},
   "outputs": [],
   "source": [
    "from goodtables import validate"
   ]
  },
  {
   "cell_type": "code",
   "execution_count": null,
   "metadata": {},
   "outputs": [],
   "source": [
    "import boto3"
   ]
  },
  {
   "cell_type": "markdown",
   "metadata": {},
   "source": [
    "## Validating a local csv"
   ]
  },
  {
   "cell_type": "code",
   "execution_count": null,
   "metadata": {},
   "outputs": [],
   "source": [
    "import json\n",
    "\n",
    "with open(\"population_schema.json\") as f:\n",
    "    schema = json.load(f)\n",
    "schema"
   ]
  },
  {
   "cell_type": "code",
   "execution_count": null,
   "metadata": {},
   "outputs": [],
   "source": [
    "validate(\"test_data/population_valid.csv\", schema=schema)"
   ]
  },
  {
   "cell_type": "code",
   "execution_count": null,
   "metadata": {},
   "outputs": [],
   "source": [
    "validate(\"test_data/population_invalid.csv\", schema=schema)"
   ]
  },
  {
   "cell_type": "markdown",
   "metadata": {},
   "source": [
    "## How to validate a csv in s3"
   ]
  },
  {
   "cell_type": "code",
   "execution_count": null,
   "metadata": {},
   "outputs": [],
   "source": [
    "# s3r = boto3.resource('s3') \n",
    "# s3r.Bucket('alpha-everyone').upload_file('test_data/population_valid.csv','goodtables_test_data/population_valid.csv')\n",
    "# s3r.Bucket('alpha-everyone').upload_file('test_data/population_invalid.csv','goodtables_test_data/population_invalid.csv')"
   ]
  },
  {
   "cell_type": "code",
   "execution_count": null,
   "metadata": {},
   "outputs": [],
   "source": [
    "import pandas as pd\n",
    "import boto3\n",
    "import io\n",
    "\n",
    "bucket = \"alpha-everyone\"\n",
    "file_name = \"goodtables_test_data/population_valid.csv\"\n",
    "\n",
    "s3 = boto3.client('s3') \n",
    "\n",
    "obj = s3.get_object(Bucket= bucket, Key= file_name) \n",
    "\n",
    "body = obj['Body']\n",
    "\n",
    "stream_csv = io.BytesIO(body.read())\n",
    "validate(stream_csv, schema=schema, format=\"csv\")"
   ]
  },
  {
   "cell_type": "code",
   "execution_count": null,
   "metadata": {},
   "outputs": [],
   "source": [
    "import pandas as pd\n",
    "import boto3\n",
    "import io\n",
    "\n",
    "bucket = \"alpha-everyone\"\n",
    "file_name = \"goodtables_test_data/population_invalid.csv\"\n",
    "\n",
    "s3 = boto3.client('s3') \n",
    "obj = s3.get_object(Bucket= bucket, Key= file_name) \n",
    "\n",
    "body = obj['Body']\n",
    "\n",
    "stream_csv = io.BytesIO(body.read())\n",
    "validate(stream_csv, schema=schema, format=\"csv\")"
   ]
  }
 ],
 "metadata": {
  "kernelspec": {
   "display_name": "Goodtables",
   "language": "python",
   "name": "goodtables"
  },
  "language_info": {
   "codemirror_mode": {
    "name": "ipython",
    "version": 3
   },
   "file_extension": ".py",
   "mimetype": "text/x-python",
   "name": "python",
   "nbconvert_exporter": "python",
   "pygments_lexer": "ipython3",
   "version": "3.7.4"
  }
 },
 "nbformat": 4,
 "nbformat_minor": 2
}
