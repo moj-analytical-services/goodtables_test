{
 "cells": [
  {
   "cell_type": "markdown",
   "metadata": {},
   "source": [
    "2. Validate data.  Demonstrates how to validate a dataset against a schema and produce an error report \n",
    "\n",
    "We are going to use the metadata generated in the previous notebook to validate a schema"
   ]
  },
  {
   "cell_type": "code",
   "execution_count": null,
   "metadata": {},
   "outputs": [],
   "source": [
    "# Most of the validation functions are in the goodtables package\n",
    "from goodtables import validate\n",
    "import pandas as pd "
   ]
  },
  {
   "cell_type": "code",
   "execution_count": null,
   "metadata": {},
   "outputs": [],
   "source": [
    "from tableschema import Schema\n",
    "table_schema = Schema(\"schemas/table_test_data.json\")\n",
    "table_schema.valid"
   ]
  },
  {
   "cell_type": "code",
   "execution_count": null,
   "metadata": {},
   "outputs": [],
   "source": [
    "path_noerrors = \"schemas/data/test_data_no_errors.csv\"\n",
    "path_errors = \"schemas/data/test_data_with_errors.csv\""
   ]
  },
  {
   "cell_type": "code",
   "execution_count": null,
   "metadata": {},
   "outputs": [],
   "source": [
    "# File 1 is a csv that \n",
    "with open(path_noerrors) as f:\n",
    "    print(f.read())\n",
    "pd.read_csv(path_noerrors)"
   ]
  },
  {
   "cell_type": "code",
   "execution_count": null,
   "metadata": {},
   "outputs": [],
   "source": [
    "with open(path_errors) as f:\n",
    "    print(f.read())\n",
    "    \n",
    "\n",
    "pd.read_csv(path_errors)"
   ]
  },
  {
   "cell_type": "code",
   "execution_count": null,
   "metadata": {},
   "outputs": [],
   "source": [
    "validate(path_noerrors, schema=table_schema.descriptor)"
   ]
  },
  {
   "cell_type": "code",
   "execution_count": null,
   "metadata": {},
   "outputs": [],
   "source": [
    "validate(path_errors, schema=table_schema.descriptor)"
   ]
  },
  {
   "cell_type": "markdown",
   "metadata": {},
   "source": [
    "## Other forms of validation\n",
    "\n",
    "There are other inbuilt forms of validation"
   ]
  },
  {
   "cell_type": "code",
   "execution_count": null,
   "metadata": {},
   "outputs": [],
   "source": []
  },
  {
   "cell_type": "code",
   "execution_count": null,
   "metadata": {},
   "outputs": [],
   "source": [
    "import json\n",
    "table_schema_json = \"\"\"\n",
    "{\"$schema\": \"https://frictionlessdata.io/schemas/table-schema.json\",\n",
    "    \"fields\": [\n",
    "        {\n",
    "            \"name\": \"a\",\n",
    "            \"type\": \"integer\",\n",
    "            \"format\": \"default\",\n",
    "            \"constraints\": {\"minimum\": 2}\n",
    "        },\n",
    "        {\n",
    "            \"name\": \"b\",\n",
    "            \"type\": \"string\",\n",
    "            \"format\": \"default\",\n",
    "            \"constraints\": {\"unique\": true, \"enum\": [\"y\", \"z\"]}\n",
    "        }\n",
    "    ],\n",
    "    \"missingValues\": [\n",
    "        \"\"\n",
    "    ]\n",
    "}\n",
    "\"\"\"\n",
    "table_schema = json.loads(table_schema_json)"
   ]
  },
  {
   "cell_type": "code",
   "execution_count": null,
   "metadata": {},
   "outputs": [],
   "source": [
    "path_othervalidation = \"schemas/data/other_validation.csv\"\n",
    "with open(path_othervalidation) as f:\n",
    "    print(f.read())"
   ]
  },
  {
   "cell_type": "code",
   "execution_count": null,
   "metadata": {},
   "outputs": [],
   "source": [
    "validate(path_othervalidation, schema=table_schema)"
   ]
  },
  {
   "cell_type": "markdown",
   "metadata": {},
   "source": [
    "## Extending validation with custom validators "
   ]
  },
  {
   "cell_type": "code",
   "execution_count": null,
   "metadata": {},
   "outputs": [],
   "source": [
    "import json\n",
    "table_schema_json = \"\"\"\n",
    "{\"$schema\": \"https://frictionlessdata.io/schemas/table-schema.json\",\n",
    "    \"fields\": [\n",
    "        {\n",
    "            \"name\": \"a\",\n",
    "            \"type\": \"integer\",\n",
    "            \"format\": \"default\",\n",
    "            \"constraints\": {\"minimum\": 2}\n",
    "        },\n",
    "        {\n",
    "            \"name\": \"b\",\n",
    "            \"type\": \"string\",\n",
    "            \"format\": \"default\"\n",
    "        }\n",
    "    ],\n",
    "    \"missingValues\": [\n",
    "        \"\"\n",
    "    ]\n",
    "}\n",
    "\"\"\"\n",
    "table_schema = json.loads(table_schema_json)"
   ]
  },
  {
   "cell_type": "code",
   "execution_count": null,
   "metadata": {},
   "outputs": [],
   "source": [
    "from goodtables import check, Error\n",
    "\n",
    "@check('custom-check', type='custom', context='body')\n",
    "def custom_check(cells, *args, **kwargs):\n",
    "    errors = []\n",
    "    for cell in cells:\n",
    "        if cell[\"header\"] == \"b\" and cell[\"value\"] == \"z\":\n",
    "            message = 'Custom error on column value london found'\n",
    "\n",
    "            error = Error(\n",
    "                'custom-error',\n",
    "                cell,\n",
    "\n",
    "                message=message\n",
    "            )\n",
    "            errors.append(error)\n",
    "    return errors\n",
    "\n",
    "validate(path_othervalidation, schema=table_schema, checks=['custom-check', 'schema'])"
   ]
  },
  {
   "cell_type": "code",
   "execution_count": null,
   "metadata": {},
   "outputs": [],
   "source": []
  },
  {
   "cell_type": "code",
   "execution_count": null,
   "metadata": {},
   "outputs": [],
   "source": []
  },
  {
   "cell_type": "code",
   "execution_count": null,
   "metadata": {},
   "outputs": [],
   "source": []
  }
 ],
 "metadata": {
  "kernelspec": {
   "display_name": "Goodtables",
   "language": "python",
   "name": "goodtables"
  },
  "language_info": {
   "codemirror_mode": {
    "name": "ipython",
    "version": 3
   },
   "file_extension": ".py",
   "mimetype": "text/x-python",
   "name": "python",
   "nbconvert_exporter": "python",
   "pygments_lexer": "ipython3",
   "version": "3.7.4"
  }
 },
 "nbformat": 4,
 "nbformat_minor": 2
}
