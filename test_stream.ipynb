{
 "cells": [
  {
   "cell_type": "code",
   "execution_count": null,
   "metadata": {},
   "outputs": [],
   "source": [
    "from tabulator import Stream\n",
    "from tabulator import Loader\n",
    "from tabulator import validate"
   ]
  },
  {
   "cell_type": "code",
   "execution_count": null,
   "metadata": {},
   "outputs": [],
   "source": [
    "\n",
    "import boto3\n",
    "\n",
    "bucket = \"alpha-everyone\"\n",
    "file_name = \"goodtables_test_data/population_invalid.csv\"\n",
    "\n",
    "s3 = boto3.client('s3') \n",
    "obj = s3.get_object(Bucket= bucket, Key= file_name) \n",
    "\n",
    "body = obj['Body']\n",
    "\n",
    "stream_csv = body.read()\n",
    "\n"
   ]
  },
  {
   "cell_type": "code",
   "execution_count": null,
   "metadata": {},
   "outputs": [],
   "source": [
    "import io\n",
    "# https://github.com/frictionlessdata/tabulator-py/blob/master/tabulator/loaders/text.py\n",
    "class S3Loader(Loader):\n",
    "    options = []\n",
    "\n",
    "    def __init__(self, bytes_sample_size, **options):\n",
    "        pass\n",
    "\n",
    "\n",
    "    def load(self, source, mode='t', encoding=None):\n",
    "        # Prepare bytes\n",
    "        bytes = io.BufferedRandom(io.BytesIO())\n",
    "        bytes.write(stream_csv)\n",
    "        bytes.seek(0)\n",
    "\n",
    "        return io.TextIOWrapper(bytes, \"utf-8\")"
   ]
  },
  {
   "cell_type": "code",
   "execution_count": null,
   "metadata": {},
   "outputs": [],
   "source": [
    "s = Stream(\"s3://alpha-everyone/goodtables_test_data/population_valid.csv\", headers=1, custom_loaders={'s3': S3Loader})"
   ]
  },
  {
   "cell_type": "code",
   "execution_count": null,
   "metadata": {},
   "outputs": [],
   "source": [
    "from goodtables import validate"
   ]
  },
  {
   "cell_type": "code",
   "execution_count": null,
   "metadata": {},
   "outputs": [],
   "source": [
    "import json\n",
    "\n",
    "with open(\"population_schema.json\") as f:\n",
    "    schema = json.load(f)\n",
    "\n",
    "validate(s, schema=schema)"
   ]
  }
 ],
 "metadata": {
  "kernelspec": {
   "display_name": "Goodtables",
   "language": "python",
   "name": "goodtables"
  },
  "language_info": {
   "codemirror_mode": {
    "name": "ipython",
    "version": 3
   },
   "file_extension": ".py",
   "mimetype": "text/x-python",
   "name": "python",
   "nbconvert_exporter": "python",
   "pygments_lexer": "ipython3",
   "version": "3.7.4"
  }
 },
 "nbformat": 4,
 "nbformat_minor": 2
}
