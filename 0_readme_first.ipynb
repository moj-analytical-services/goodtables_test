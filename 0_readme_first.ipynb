{
 "cells": [
  {
   "cell_type": "markdown",
   "metadata": {},
   "source": [
    "These notebooks contain some examples of how to use the frictionless data toolset.  The intention is they illustrate the benefits of the tools through tangible examples."
   ]
  },
  {
   "cell_type": "markdown",
   "metadata": {},
   "source": [
    "There are several notebooks:\n",
    "\n",
    "1. Infer and modify schemas.  This illustrates how to generate and edit table and data package schemas.  These contain the metadata required for the more 'interesting' functionality like validating data, and converting it into other formats\n",
    "\n",
    "2. Validate data.  Demonstrates how to validate a dataset against a schema and produce an error report \n",
    "\n",
    "3. Typcasting.  How does this work?  How can we get data into pandas?\n",
    "\n",
    "4. Create a datapackage where the data itself lives in s3 so you can e.g. validate data directly from s3\n"
   ]
  },
  {
   "cell_type": "code",
   "execution_count": null,
   "metadata": {},
   "outputs": [],
   "source": []
  }
 ],
 "metadata": {
  "kernelspec": {
   "display_name": "Goodtables",
   "language": "python",
   "name": "goodtables"
  },
  "language_info": {
   "codemirror_mode": {
    "name": "ipython",
    "version": 3
   },
   "file_extension": ".py",
   "mimetype": "text/x-python",
   "name": "python",
   "nbconvert_exporter": "python",
   "pygments_lexer": "ipython3",
   "version": "3.7.4"
  }
 },
 "nbformat": 4,
 "nbformat_minor": 2
}
