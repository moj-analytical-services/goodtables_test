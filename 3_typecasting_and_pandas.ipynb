{
 "cells": [
  {
   "cell_type": "markdown",
   "metadata": {},
   "source": [
    "3. Typcasting.  How does this work?  How can we get data into pandas?"
   ]
  },
  {
   "cell_type": "code",
   "execution_count": null,
   "metadata": {},
   "outputs": [],
   "source": [
    "path = \"schemas/data/int_as_string.csv\"\n",
    "with open(path) as f:\n",
    "    print(f.read())"
   ]
  },
  {
   "cell_type": "code",
   "execution_count": null,
   "metadata": {},
   "outputs": [],
   "source": [
    "import json\n",
    "table_schema_json = \"\"\"\n",
    "{\"$schema\": \"https://frictionlessdata.io/schemas/table-schema.json\",\n",
    "    \"fields\": [\n",
    "        {\n",
    "            \"name\": \"int_as_string\",\n",
    "            \"type\": \"integer\",\n",
    "            \"format\": \"default\"\n",
    "        },\n",
    "        {\n",
    "            \"name\": \"int\",\n",
    "            \"type\": \"integer\",\n",
    "            \"format\": \"default\"\n",
    "        },\n",
    "            {\n",
    "            \"name\": \"int_as_float\",\n",
    "            \"type\": \"integer\",\n",
    "            \"format\": \"default\"\n",
    "        }\n",
    "    ],\n",
    "    \"missingValues\": [\n",
    "        \"\"\n",
    "    ]\n",
    "}\n",
    "\"\"\"\n",
    "table_schema = json.loads(table_schema_json)"
   ]
  },
  {
   "cell_type": "code",
   "execution_count": null,
   "metadata": {},
   "outputs": [],
   "source": [
    "from tableschema import Table\n",
    "t = Table(\"schemas/data/int_as_string.csv\", schema=table_schema)\n",
    "try:\n",
    "    t.read(keyed=True)\n",
    "except Exception as e:\n",
    "    print(e.errors)"
   ]
  },
  {
   "cell_type": "code",
   "execution_count": null,
   "metadata": {},
   "outputs": [],
   "source": [
    "from tableschema import Table\n",
    "t = Table(\"schemas/data/int_as_string.csv\", schema=table_schema)\n",
    "t.read(keyed=True, cast=False)"
   ]
  },
  {
   "cell_type": "code",
   "execution_count": null,
   "metadata": {},
   "outputs": [],
   "source": [
    "table_schema[\"fields\"][2][\"type\"] = \"number\"\n",
    "t = Table(\"schemas/data/int_as_string.csv\", schema=table_schema)\n",
    "t.read(keyed=True)"
   ]
  },
  {
   "cell_type": "markdown",
   "metadata": {},
   "source": [
    "## What happens if we want to read data into pandas?"
   ]
  },
  {
   "cell_type": "code",
   "execution_count": null,
   "metadata": {},
   "outputs": [],
   "source": [
    "# Create datapackage\n",
    "from tableschema import Storage\n",
    "\n",
    "t = Table(\"schemas/data/int_as_string.csv\", schema=table_schema)\n",
    "\n",
    "storage = Storage.connect('pandas')\n",
    "storage.create('mybucket', table_schema)\n",
    "storage.write('mybucket', t.read())\n",
    "df = storage['mybucket']  "
   ]
  },
  {
   "cell_type": "code",
   "execution_count": null,
   "metadata": {},
   "outputs": [],
   "source": [
    "df.dtypes"
   ]
  },
  {
   "cell_type": "code",
   "execution_count": null,
   "metadata": {},
   "outputs": [],
   "source": [
    "# Another way to do it \n",
    "from datapackage import Package\n",
    "\n",
    "\n",
    "storage = Storage.connect('pandas')\n",
    "\n",
    "package = Package(\"schemas/package_test_data.json\", base_path=\".\")\n",
    "\n",
    "\n",
    "\n",
    "package.save(storage=storage)\n",
    "\n",
    "df = storage['test_data_no_errors']\n"
   ]
  },
  {
   "cell_type": "code",
   "execution_count": null,
   "metadata": {},
   "outputs": [],
   "source": [
    "df.dtypes"
   ]
  }
 ],
 "metadata": {
  "kernelspec": {
   "display_name": "Goodtables",
   "language": "python",
   "name": "goodtables"
  },
  "language_info": {
   "codemirror_mode": {
    "name": "ipython",
    "version": 3
   },
   "file_extension": ".py",
   "mimetype": "text/x-python",
   "name": "python",
   "nbconvert_exporter": "python",
   "pygments_lexer": "ipython3",
   "version": "3.7.4"
  }
 },
 "nbformat": 4,
 "nbformat_minor": 2
}
