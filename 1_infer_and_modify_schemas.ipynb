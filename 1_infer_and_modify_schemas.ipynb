{
 "cells": [
  {
   "cell_type": "markdown",
   "metadata": {},
   "source": [
    "1. Infer and modify schemas.  This illustrates how to generate and edit table and data package schemas.  These contain the metadata required for the more 'interesting' functionality like validating data, and converting it into other formats"
   ]
  },
  {
   "cell_type": "code",
   "execution_count": null,
   "metadata": {},
   "outputs": [],
   "source": [
    "from datapackage import Package"
   ]
  },
  {
   "cell_type": "code",
   "execution_count": null,
   "metadata": {},
   "outputs": [],
   "source": [
    "from datapackage import Package \n",
    "\n",
    "package = Package()\n",
    "package.infer('data/test_data_no_errors.csv')"
   ]
  },
  {
   "cell_type": "code",
   "execution_count": null,
   "metadata": {},
   "outputs": [],
   "source": [
    "# In general a package can have more than one data resource\n",
    "resource = package.get_resource('test_data_no_errors')\n",
    "resource.read(keyed=True)[:2]"
   ]
  },
  {
   "cell_type": "markdown",
   "metadata": {},
   "source": [
    "### Update schema with actual types\n",
    "\n",
    "Note there are only two number types: number and integer.  See [here](https://github.com/frictionlessdata/specs/issues/437)."
   ]
  },
  {
   "cell_type": "code",
   "execution_count": null,
   "metadata": {},
   "outputs": [],
   "source": [
    "# This seems unnecessarily fiddly\n",
    "schema = resource.schema\n",
    "schema.update_field(\"mydatetime\", {\"type\": \"datetime\", 'format': '%Y-%m-%dT%H:%M:%S' })\n",
    "schema.update_field(\"myfloat\", {\"type\": \"number\"})\n",
    "schema.update_field(\"mylong\", {\"type\": \"string\"})\n",
    "schema.commit()\n",
    "\n",
    "resource.descriptor['schema'] = schema.descriptor\n",
    "resource.commit()\n",
    "\n",
    "package.descriptor['resources'] = [resource.descriptor]\n",
    "package.commit()\n",
    "print(package.valid)\n",
    "package.descriptor"
   ]
  },
  {
   "cell_type": "code",
   "execution_count": null,
   "metadata": {},
   "outputs": [],
   "source": [
    "data = resource.read(keyed=True)[:2]\n",
    "data"
   ]
  },
  {
   "cell_type": "markdown",
   "metadata": {},
   "source": [
    "Note this is not immediately convertable into a pandas dataframe, because of e.g. the decimals.  We will see how to do this properly in a later notebook"
   ]
  },
  {
   "cell_type": "code",
   "execution_count": null,
   "metadata": {},
   "outputs": [],
   "source": [
    "import pandas as pd\n",
    "df = pd.DataFrame(data)\n",
    "df"
   ]
  },
  {
   "cell_type": "markdown",
   "metadata": {},
   "source": [
    "Write out to a data package and/or a table schema"
   ]
  },
  {
   "cell_type": "code",
   "execution_count": null,
   "metadata": {},
   "outputs": [],
   "source": [
    "package.save('schemas/package_test_data.json')"
   ]
  },
  {
   "cell_type": "code",
   "execution_count": null,
   "metadata": {},
   "outputs": [],
   "source": [
    "resource.save('schemas/table_test_data.json')"
   ]
  },
  {
   "cell_type": "markdown",
   "metadata": {},
   "source": [
    "## Demonstrate reading in a package"
   ]
  },
  {
   "cell_type": "code",
   "execution_count": null,
   "metadata": {},
   "outputs": [],
   "source": [
    "p = Package(\"schemas/package_test_data.json\")"
   ]
  },
  {
   "cell_type": "code",
   "execution_count": null,
   "metadata": {},
   "outputs": [],
   "source": [
    "resource = package.get_resource('test_data_no_errors')\n",
    "resource.read(keyed=True)[:2]"
   ]
  }
 ],
 "metadata": {
  "kernelspec": {
   "display_name": "Goodtables",
   "language": "python",
   "name": "goodtables"
  },
  "language_info": {
   "codemirror_mode": {
    "name": "ipython",
    "version": 3
   },
   "file_extension": ".py",
   "mimetype": "text/x-python",
   "name": "python",
   "nbconvert_exporter": "python",
   "pygments_lexer": "ipython3",
   "version": "3.7.4"
  }
 },
 "nbformat": 4,
 "nbformat_minor": 2
}
